{
 "cells": [
  {
   "cell_type": "code",
   "execution_count": 1,
   "metadata": {
    "id": "T8wTOSsKeQhd"
   },
   "outputs": [],
   "source": [
    "import numpy as np\n",
    "import pandas as pd\n",
    "from sklearn.metrics import accuracy_score"
   ]
  },
  {
   "cell_type": "code",
   "execution_count": 2,
   "metadata": {},
   "outputs": [],
   "source": [
    "dataroot = 'watermelon.csv'\n",
    "df = pd.read_csv(dataroot)"
   ]
  },
  {
   "cell_type": "code",
   "execution_count": 3,
   "metadata": {},
   "outputs": [],
   "source": [
    "samples = np.zeros((17, 8))\n",
    "labels = np.zeros((17, 1))"
   ]
  },
  {
   "cell_type": "code",
   "execution_count": 4,
   "metadata": {},
   "outputs": [],
   "source": [
    "feature1 = {'青绿': 1, '乌黑': 2, '浅白': 3}\n",
    "feature2 = {'蜷缩': 1, '稍蜷': 2, '硬挺': 3}\n",
    "feature3 = {'浊响': 1, '沉闷': 2, '清脆': 3}\n",
    "feature4 = {'清晰': 1, '稍糊': 2, '模糊': 3}\n",
    "feature5 = {'凹陷': 1, '稍凹': 2, '平坦': 3}\n",
    "feature6 = {'硬滑': 1, '软粘': 2}\n",
    "\n",
    "\n",
    "for row in range(df.shape[0]):\n",
    "    samples[row][0] = feature1[df.iloc[row][1]]\n",
    "    samples[row][1] = feature2[df.iloc[row][2]]\n",
    "    samples[row][2] = feature3[df.iloc[row][3]]\n",
    "    samples[row][3] = feature4[df.iloc[row][4]]\n",
    "    samples[row][4] = feature5[df.iloc[row][5]]\n",
    "    samples[row][5] = feature6[df.iloc[row][6]]\n",
    "    samples[row][6] = df.iloc[row][7]\n",
    "    samples[row][7] = df.iloc[row][8]\n",
    "    labels[row][0] = 1 if df.iloc[row][9] == '是' else -1\n",
    "    \n",
    "labels = np.reshape(labels, -1)\n",
    "flag = np.array([0, 0, 0, 0, 0, 0, 1, 1])"
   ]
  },
  {
   "cell_type": "markdown",
   "metadata": {
    "id": "676BcyAhfdYM"
   },
   "source": [
    "**Two Class Naive Bayes Classifier**"
   ]
  },
  {
   "cell_type": "code",
   "execution_count": 57,
   "metadata": {
    "id": "ldxCprT7fY1f"
   },
   "outputs": [],
   "source": [
    "class TwoClassNaiveBayesClassifier():\n",
    "    def __init__(self, sample_dim):\n",
    "        self.sample_dim = sample_dim\n",
    "    \n",
    "    \n",
    "    def train(self, training_samples, flag, training_labels):\n",
    "        sample_dim = self.sample_dim\n",
    "        sample_num = training_samples.shape[0]\n",
    "        if sample_dim != training_samples.shape[1]:\n",
    "            raise Exception(\"Input samples are not compatible with this classifier!\")\n",
    "            \n",
    "        conti_feature = np.where(flag==1)\n",
    "        \n",
    "        dis_feature = np.where(flag==0)\n",
    "        \n",
    "        prob_positive = np.zeros((sample_dim, 3))\n",
    "        prob_negative = np.zeros((sample_dim, 3))\n",
    "        \n",
    "        \n",
    "        mean_list = np.zeros((sample_dim, 2))\n",
    "        std_list = np.zeros((sample_dim, 2))\n",
    "        class_prior = np.zeros((2))\n",
    "        \n",
    "        \n",
    "        class_prior[0] = np.count_nonzero(training_labels==-1) / sample_num\n",
    "        class_prior[1] = np.count_nonzero(training_labels==1) / sample_num\n",
    "        \n",
    "        for dim in conti_feature[0]:\n",
    "            mean_list[dim, 0] = np.mean(training_samples[training_labels==-1, dim])\n",
    "            mean_list[dim, 1] = np.mean(training_samples[training_labels==1, dim])\n",
    "            std_list[dim, 0] = np.std(training_samples[training_labels==-1, dim])\n",
    "            std_list[dim, 1] = np.std(training_samples[training_labels==1, dim])\n",
    "            \n",
    "        pos = np.where(training_labels==1)\n",
    "        neg = np.where(training_labels==-1)\n",
    "        num_positive = len(pos[0])\n",
    "        num_negative = len(neg[0])\n",
    "        \n",
    "        for dim in dis_feature[0]:\n",
    "            feature = training_samples[training_labels==1][:,dim]\n",
    "            nums = np.unique(feature)\n",
    "            for i in range(len(nums)):\n",
    "                prob_positive[dim][i] = np.count_nonzero(feature==nums[i])/num_positive\n",
    "                \n",
    "            feature = training_samples[training_labels==-1][:,dim]\n",
    "            nums = np.unique(feature)\n",
    "            for i in range(len(nums)):\n",
    "                prob_negative[dim][i] = np.count_nonzero(feature==nums[i])/num_negative\n",
    "            \n",
    "        self.class_prior = class_prior\n",
    "        self.mean_list = mean_list\n",
    "        self.std_list = std_list\n",
    "        self.prob_positive = prob_positive\n",
    "        self.prob_negative = prob_negative\n",
    "        \n",
    "    \n",
    "    def test(self, testing_samples, flag, testing_labels=None):\n",
    "        \n",
    "        sample_dim = self.sample_dim\n",
    "        sample_num = testing_samples.shape[0]\n",
    "        if sample_dim != testing_samples.shape[1]:\n",
    "            raise Exception(\"Input samples are not compatible with this classifier!\")\n",
    "            \n",
    "        predicted_labels = np.zeros((sample_num))\n",
    "        \n",
    "        class_prior = self.class_prior\n",
    "        mean_list = self.mean_list\n",
    "        std_list = self.std_list\n",
    "        prob_positive = self.prob_positive\n",
    "        prob_negative = self.prob_negative\n",
    "        \n",
    "        conti_feature = np.where(flag==1)\n",
    "        dis_feature = np.where(flag==0)\n",
    "        \n",
    "        for i in range(sample_num):\n",
    "            xi = testing_samples[i]\n",
    "            \n",
    "            xi_posterior_prob = [1, 1]\n",
    "            \n",
    "            for dim in conti_feature[0]:\n",
    "                xi_prob1 = self.Gaussian(xi[dim], mean_list[dim, 0], std_list[dim, 0])\n",
    "                xi_posterior_prob[0] *= xi_prob1\n",
    "                \n",
    "                xi_prob2 = self.Gaussian(xi[dim], mean_list[dim, 1], std_list[dim, 1])\n",
    "                xi_posterior_prob[1] *= xi_prob2\n",
    "                \n",
    "            for dim in dis_feature[0]:\n",
    "\n",
    "                xi_prob1 = prob_negative[dim][int(xi[dim])-1]\n",
    "                xi_posterior_prob[0] *= xi_prob1\n",
    "                \n",
    "                xi_prob2 = prob_positive[dim][int(xi[dim])-1]\n",
    "                xi_posterior_prob[1] *= xi_prob2\n",
    "                \n",
    "            xi_posterior_prob[0] *= class_prior[0]\n",
    "            xi_posterior_prob[1] *= class_prior[1]\n",
    "            \n",
    "            if xi_posterior_prob[0] > xi_posterior_prob[1]:\n",
    "                predicted_labels[i] = -1\n",
    "            else:\n",
    "                predicted_labels[i] = 1\n",
    "                \n",
    "        if testing_labels is not None:\n",
    "            acc = accuracy_score(testing_labels, predicted_labels)\n",
    "                \n",
    "        return predicted_labels\n",
    "                \n",
    "                \n",
    "    def Gaussian(self, x, mean, std):\n",
    "        return np.exp(- 1 / 2 * np.dot((x - mean).T, (x - mean)) / std) / (2 * np.pi * np.sqrt(np.abs(std)))"
   ]
  },
  {
   "cell_type": "code",
   "execution_count": 58,
   "metadata": {},
   "outputs": [],
   "source": [
    "def NBClassifier(training_samples, training_labels, testing_samples, testing_labels, flag):\n",
    "    \n",
    "    sample_dim = len(flag)\n",
    "    \n",
    "    NBC = TwoClassNaiveBayesClassifier(sample_dim)\n",
    "    NBC.train(training_samples, flag, training_labels)\n",
    "    pred = NBC.test(testing_samples, flag, testing_labels)\n",
    "    \n",
    "    test_num = len(testing_labels)\n",
    "    correct_num = 0\n",
    "    for i in range(test_num):\n",
    "        if pred[i] == testing_labels[i]:\n",
    "            correct_num += 1\n",
    "            \n",
    "    return [test_num, correct_num, correct_num / test_num]"
   ]
  },
  {
   "cell_type": "markdown",
   "metadata": {},
   "source": [
    "**k重交叉验证**"
   ]
  },
  {
   "cell_type": "code",
   "execution_count": 59,
   "metadata": {},
   "outputs": [],
   "source": [
    "def Cross_validation(samples, labels, flag, k=5):\n",
    "    \n",
    "    batch_size = int(samples.shape[0] / k)\n",
    "    correct_classification = 0\n",
    "    total = 0\n",
    "\n",
    "    for i in range(0, k):\n",
    "        k_train_samples = np.vstack([samples[0 : i * batch_size], samples[(i + 1) * batch_size :]])\n",
    "        k_train_labels = np.hstack([labels[0 : i * batch_size], labels[(i + 1) * batch_size:]])\n",
    "\n",
    "        k_val_samples = samples[i * batch_size : (i + 1) * batch_size]\n",
    "        k_val_labels = labels[i * batch_size : (i + 1) * batch_size]\n",
    "\n",
    "        res = NBClassifier(k_train_samples, k_train_labels, k_val_samples, k_val_labels, flag)\n",
    "        \n",
    "        correct_classification += res[1]\n",
    "        total += res[0]\n",
    "        print('ACC of %dth validation : %.3f' % (i, res[2]))\n",
    "                    \n",
    "    return correct_classification / total"
   ]
  },
  {
   "cell_type": "markdown",
   "metadata": {},
   "source": [
    "**数据集乱序**"
   ]
  },
  {
   "cell_type": "code",
   "execution_count": 60,
   "metadata": {},
   "outputs": [],
   "source": [
    "idx = list(range(17))\n",
    "np.random.shuffle(idx)\n",
    "\n",
    "samples = samples[idx]\n",
    "labels = labels[idx]"
   ]
  },
  {
   "cell_type": "code",
   "execution_count": 61,
   "metadata": {},
   "outputs": [
    {
     "name": "stdout",
     "output_type": "stream",
     "text": [
      "ACC of 0th validation : 0.667\n",
      "ACC of 1th validation : 0.667\n",
      "ACC of 2th validation : 1.000\n",
      "ACC of 3th validation : 0.000\n",
      "ACC of 4th validation : 0.333\n"
     ]
    },
    {
     "data": {
      "text/plain": [
       "0.5333333333333333"
      ]
     },
     "execution_count": 61,
     "metadata": {},
     "output_type": "execute_result"
    }
   ],
   "source": [
    "Cross_validation(samples, labels, flag, k=5)"
   ]
  }
 ],
 "metadata": {
  "colab": {
   "authorship_tag": "ABX9TyOPBXZmWVNnqP5zvJflyx0I",
   "collapsed_sections": [],
   "name": "CaseStudy1.ipynb",
   "provenance": []
  },
  "kernelspec": {
   "display_name": "Python 3",
   "language": "python",
   "name": "python3"
  },
  "language_info": {
   "codemirror_mode": {
    "name": "ipython",
    "version": 3
   },
   "file_extension": ".py",
   "mimetype": "text/x-python",
   "name": "python",
   "nbconvert_exporter": "python",
   "pygments_lexer": "ipython3",
   "version": "3.7.1"
  }
 },
 "nbformat": 4,
 "nbformat_minor": 1
}
