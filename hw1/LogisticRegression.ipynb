{
 "cells": [
  {
   "cell_type": "code",
   "execution_count": 1,
   "metadata": {},
   "outputs": [],
   "source": [
    "import numpy as np\n",
    "import pandas as pd\n",
    "from sklearn.metrics import accuracy_score"
   ]
  },
  {
   "cell_type": "code",
   "execution_count": 2,
   "metadata": {},
   "outputs": [],
   "source": [
    "dataroot = 'watermelon.csv'\n",
    "df = pd.read_csv(dataroot)"
   ]
  },
  {
   "cell_type": "code",
   "execution_count": 3,
   "metadata": {},
   "outputs": [],
   "source": [
    "samples = np.zeros((17, 8))\n",
    "labels = np.zeros((17, 1))\n",
    "\n",
    "feature1 = {'青绿': 1, '乌黑': 2, '浅白': 3}\n",
    "feature2 = {'蜷缩': 1, '稍蜷': 2, '硬挺': 3}\n",
    "feature3 = {'浊响': 1, '沉闷': 2, '清脆': 3}\n",
    "feature4 = {'清晰': 1, '稍糊': 2, '模糊': 3}\n",
    "feature5 = {'凹陷': 1, '稍凹': 2, '平坦': 3}\n",
    "feature6 = {'硬滑': 1, '软粘': 2}\n",
    "\n",
    "for row in range(df.shape[0]):\n",
    "    samples[row][0] = feature1[df.iloc[row][1]]\n",
    "    samples[row][1] = feature2[df.iloc[row][2]]\n",
    "    samples[row][2] = feature3[df.iloc[row][3]]\n",
    "    samples[row][3] = feature4[df.iloc[row][4]]\n",
    "    samples[row][4] = feature5[df.iloc[row][5]]\n",
    "    samples[row][5] = feature6[df.iloc[row][6]]\n",
    "    samples[row][6] = df.iloc[row][7]\n",
    "    samples[row][7] = df.iloc[row][8]\n",
    "    labels[row][0] = 1 if df.iloc[row][9] == '是' else 0\n",
    "    \n",
    "\n",
    "labels = np.reshape(labels, -1)"
   ]
  },
  {
   "cell_type": "code",
   "execution_count": 79,
   "metadata": {},
   "outputs": [],
   "source": [
    "class LogisticRegression(object):\n",
    "    \n",
    "    \n",
    "    def __init__(self, sample_dim):\n",
    "        self.sample_dim = sample_dim\n",
    "        self.threshold = 0.5\n",
    "    \n",
    "    \n",
    "    def train(self, training_samples, training_labels):\n",
    "        sample_dim = self.sample_dim\n",
    "        sample_num = training_samples.shape[0]\n",
    "        if sample_dim != training_samples.shape[1]:\n",
    "            raise Exception(\"Input samples are not compatible with this classifier!\")\n",
    "            \n",
    "            \n",
    "        w = np.ones_like(training_samples[0])\n",
    "        b = 1\n",
    "        prev_w = w\n",
    "        prev_b = b\n",
    "        \n",
    "        lr = 0.001\n",
    "        iteration = 10000\n",
    "        cnt = 0\n",
    "\n",
    "        while cnt < iteration:\n",
    "            prev_w = w\n",
    "            prev_b = b\n",
    "            \n",
    "            w = w - lr * self.derivative_over_w(training_labels, training_samples, w, b)\n",
    "            b = b - lr * self.derivative_over_b(training_labels, training_samples, w, b)\n",
    "            \n",
    "            if abs(sum(prev_w-w))<1e-5:\n",
    "                break\n",
    "                \n",
    "            cnt += 1\n",
    "            \n",
    "        self.w = w\n",
    "        self.b = b\n",
    "            \n",
    "            \n",
    "    def test(self, testing_samples, testing_labels=None):\n",
    "        sample_dim = self.sample_dim\n",
    "        threshold = self.threshold\n",
    "        \n",
    "        sample_num = testing_samples.shape[0]\n",
    "        if sample_dim != testing_samples.shape[1]:\n",
    "            raise Exception(\"Input samples are not compatible with this classifier!\")\n",
    "            \n",
    "        predicted_labels = np.zeros((sample_num))\n",
    "            \n",
    "        w = self.w\n",
    "        b = self.b\n",
    "        \n",
    "        for i in range(sample_num):\n",
    "            xi = testing_samples[i]\n",
    "            \n",
    "            out = self.sigmoid(xi, b, w)\n",
    "            predicted_labels[i] = 1 if out > threshold else 0\n",
    "            \n",
    "        print(predicted_labels)\n",
    "        if testing_labels is not None:\n",
    "            print('ACC of test:{}'.format(accuracy_score(testing_labels, predicted_labels)))\n",
    "    \n",
    "    \n",
    "    def sigmoid(self, x, b, w):\n",
    "        return 1 / (1 + np.exp(- (w.T).dot(x) - b))\n",
    "    \n",
    "    \n",
    "    def prob_positive(self, w, x, b):\n",
    "        tmp = np.exp((w.T).dot(x) + b)\n",
    "        return tmp / (1 + tmp)\n",
    "    \n",
    "    \n",
    "    def derivative_over_w(self, y, x, w, b):\n",
    "        D = np.zeros_like(x[0])\n",
    "        for i in range(x.shape[0]):\n",
    "            D += (x[i] * y[i] - x[i] * self.prob_positive(w, x[i], b))\n",
    "        return -D\n",
    "    \n",
    "    \n",
    "    def derivative_over_b(self, y, x, w, b):\n",
    "        D = 0\n",
    "        for i in range(x.shape[0]):\n",
    "            D += (y[i] - self.prob_positive(w, x[i], b))\n",
    "        return -D"
   ]
  },
  {
   "cell_type": "code",
   "execution_count": 80,
   "metadata": {},
   "outputs": [],
   "source": [
    "LR = LogisticRegression(8)"
   ]
  },
  {
   "cell_type": "code",
   "execution_count": 81,
   "metadata": {},
   "outputs": [],
   "source": [
    "idx = list(range(17))\n",
    "np.random.shuffle(idx)\n",
    "\n",
    "training_idx = idx[:14]\n",
    "training_samples = samples[training_idx]\n",
    "training_labels = labels[training_idx]\n",
    "\n",
    "testing_idx = idx[14:]\n",
    "testing_samples = samples[testing_idx]\n",
    "testing_labels = labels[testing_idx]"
   ]
  },
  {
   "cell_type": "code",
   "execution_count": 82,
   "metadata": {},
   "outputs": [],
   "source": [
    "LR.train(training_samples, training_labels)"
   ]
  },
  {
   "cell_type": "code",
   "execution_count": 83,
   "metadata": {},
   "outputs": [
    {
     "name": "stdout",
     "output_type": "stream",
     "text": [
      "[0. 1. 0.]\n",
      "ACC of test:0.6666666666666666\n"
     ]
    }
   ],
   "source": [
    "LR.test(testing_samples, testing_labels)"
   ]
  }
 ],
 "metadata": {
  "kernelspec": {
   "display_name": "Python 3",
   "language": "python",
   "name": "python3"
  },
  "language_info": {
   "codemirror_mode": {
    "name": "ipython",
    "version": 3
   },
   "file_extension": ".py",
   "mimetype": "text/x-python",
   "name": "python",
   "nbconvert_exporter": "python",
   "pygments_lexer": "ipython3",
   "version": "3.7.1"
  }
 },
 "nbformat": 4,
 "nbformat_minor": 4
}
