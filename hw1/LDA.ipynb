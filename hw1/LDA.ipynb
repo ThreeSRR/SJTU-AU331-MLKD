{
 "cells": [
  {
   "cell_type": "code",
   "execution_count": 1,
   "metadata": {},
   "outputs": [],
   "source": [
    "import numpy as np\n",
    "import pandas as pd\n",
    "from sklearn.metrics import accuracy_score"
   ]
  },
  {
   "cell_type": "markdown",
   "metadata": {},
   "source": [
    "**数据预处理**"
   ]
  },
  {
   "cell_type": "code",
   "execution_count": 2,
   "metadata": {},
   "outputs": [],
   "source": [
    "dataroot = 'watermelon.csv'\n",
    "df = pd.read_csv(dataroot)"
   ]
  },
  {
   "cell_type": "code",
   "execution_count": 3,
   "metadata": {},
   "outputs": [],
   "source": [
    "samples = np.zeros((17, 8))\n",
    "labels = np.zeros((17, 1))\n",
    "\n",
    "feature1 = {'青绿': 1, '乌黑': 2, '浅白': 3}\n",
    "feature2 = {'蜷缩': 1, '稍蜷': 2, '硬挺': 3}\n",
    "feature3 = {'浊响': 1, '沉闷': 2, '清脆': 3}\n",
    "feature4 = {'清晰': 1, '稍糊': 2, '模糊': 3}\n",
    "feature5 = {'凹陷': 1, '稍凹': 2, '平坦': 3}\n",
    "feature6 = {'硬滑': 1, '软粘': 2}\n",
    "\n",
    "for row in range(df.shape[0]):\n",
    "    samples[row][0] = feature1[df.iloc[row][1]]\n",
    "    samples[row][1] = feature2[df.iloc[row][2]]\n",
    "    samples[row][2] = feature3[df.iloc[row][3]]\n",
    "    samples[row][3] = feature4[df.iloc[row][4]]\n",
    "    samples[row][4] = feature5[df.iloc[row][5]]\n",
    "    samples[row][5] = feature6[df.iloc[row][6]]\n",
    "    samples[row][6] = df.iloc[row][7]\n",
    "    samples[row][7] = df.iloc[row][8]\n",
    "    labels[row][0] = 1 if df.iloc[row][9] == '是' else -1\n",
    "    \n",
    "\n",
    "labels = np.reshape(labels, -1)\n",
    "flag = np.array([0, 0, 0, 0, 0, 0, 1, 1])"
   ]
  },
  {
   "cell_type": "markdown",
   "metadata": {},
   "source": [
    "**LDA**"
   ]
  },
  {
   "cell_type": "code",
   "execution_count": 70,
   "metadata": {},
   "outputs": [],
   "source": [
    "class LinearDiscriminantAnalysis(object):\n",
    "    def __init__(self, sample_dim):\n",
    "        self.sample_dim = sample_dim\n",
    "        \n",
    "    def train(self, training_samples, training_labels):\n",
    "        sample_dim = self.sample_dim\n",
    "        sample_num = training_samples.shape[0]\n",
    "        if sample_dim != training_samples.shape[1]:\n",
    "            raise Exception(\"Input samples are not compatible with this classifier!\")\n",
    "            \n",
    "        positive = training_samples[training_labels==1]\n",
    "        negative = training_samples[training_labels==-1]\n",
    "        \n",
    "        # 计算均值\n",
    "        u0 = negative.mean(0)\n",
    "        u1 = positive.mean(0)\n",
    "        \n",
    "        # 计算协方差\n",
    "        tmp0 = np.zeros_like(negative[0] - u0).dot((negative[0] - u0).T)\n",
    "        for row in negative:\n",
    "            tmp0 += (row - u0).dot((row - u0).T)\n",
    "        sigma0 = 1 / (negative.shape[1] - 1) * tmp0\n",
    "        \n",
    "        tmp1 = np.zeros_like(positive[0] - u1).dot((positive[0] - u1).T)\n",
    "        for row in positive:\n",
    "            tmp1 += (row - u1).dot((row - u1).T)\n",
    "        sigma1 = 1 / (positive.shape[1] - 1) * tmp1\n",
    "        \n",
    "        # 类内离散度矩阵\n",
    "        Sw = sigma0 + sigma1\n",
    "        \n",
    "        if isinstance(Sw, np.float64): \n",
    "            w = (1 / Sw) * (u0 - u1)\n",
    "        else:\n",
    "            w = np.linalg.inv(Sw).dot(u0 - u1)\n",
    "            \n",
    "        negative_center =  (w.T).dot(u0)\n",
    "        positive_center =  (w.T).dot(u1)\n",
    "        \n",
    "        self.w = w\n",
    "        self.negative_center = negative_center\n",
    "        self.positive_center = positive_center\n",
    "        \n",
    "    \n",
    "    def test(self, testing_samples, testing_labels=None):\n",
    "        \n",
    "        sample_dim = self.sample_dim\n",
    "        sample_num = testing_samples.shape[0]\n",
    "        if sample_dim != testing_samples.shape[1]:\n",
    "            raise Exception(\"Input samples are not compatible with this classifier!\")\n",
    "            \n",
    "        w = self.w\n",
    "        negative_center = self.negative_center\n",
    "        positive_center = self.positive_center\n",
    "        \n",
    "        predicted_labels = np.zeros((sample_num))\n",
    "        \n",
    "        for i in range(sample_num):\n",
    "            xi = testing_samples[i]\n",
    "            \n",
    "            if abs((w.T).dot(xi) - positive_center) > abs((w.T).dot(xi) - negative_center):\n",
    "                predicted_labels[i] = -1\n",
    "            else:\n",
    "                predicted_labels[i] = 1\n",
    "        \n",
    "        if testing_labels is not None:\n",
    "            print('ACC of test:{}'.format(accuracy_score(testing_labels, predicted_labels)))\n",
    "                \n",
    "        return predicted_labels"
   ]
  },
  {
   "cell_type": "code",
   "execution_count": 71,
   "metadata": {},
   "outputs": [],
   "source": [
    "LDA = LinearDiscriminantAnalysis(8)"
   ]
  },
  {
   "cell_type": "code",
   "execution_count": 84,
   "metadata": {},
   "outputs": [],
   "source": [
    "idx = list(range(17))\n",
    "np.random.shuffle(idx)\n",
    "\n",
    "training_idx = idx[:13]\n",
    "training_samples = samples[training_idx]\n",
    "training_labels = labels[training_idx]\n",
    "\n",
    "testing_idx = idx[13:]\n",
    "testing_samples = samples[testing_idx]\n",
    "testing_labels = labels[testing_idx]"
   ]
  },
  {
   "cell_type": "code",
   "execution_count": 85,
   "metadata": {},
   "outputs": [],
   "source": [
    "LDA.train(training_samples, training_labels)"
   ]
  },
  {
   "cell_type": "code",
   "execution_count": 86,
   "metadata": {},
   "outputs": [
    {
     "name": "stdout",
     "output_type": "stream",
     "text": [
      "ACC of test:1.0\n"
     ]
    }
   ],
   "source": [
    "pred = LDA.test(testing_samples, testing_labels)"
   ]
  },
  {
   "cell_type": "code",
   "execution_count": 87,
   "metadata": {},
   "outputs": [
    {
     "data": {
      "text/plain": [
       "array([ 1., -1.,  1.,  1.])"
      ]
     },
     "execution_count": 87,
     "metadata": {},
     "output_type": "execute_result"
    }
   ],
   "source": [
    "pred"
   ]
  },
  {
   "cell_type": "code",
   "execution_count": 88,
   "metadata": {},
   "outputs": [
    {
     "data": {
      "text/plain": [
       "array([ 1., -1.,  1.,  1.])"
      ]
     },
     "execution_count": 88,
     "metadata": {},
     "output_type": "execute_result"
    }
   ],
   "source": [
    "testing_labels"
   ]
  },
  {
   "cell_type": "code",
   "execution_count": 89,
   "metadata": {},
   "outputs": [
    {
     "data": {
      "text/plain": [
       "1.0"
      ]
     },
     "execution_count": 89,
     "metadata": {},
     "output_type": "execute_result"
    }
   ],
   "source": [
    "accuracy_score(testing_labels, pred)"
   ]
  }
 ],
 "metadata": {
  "kernelspec": {
   "display_name": "Python 3",
   "language": "python",
   "name": "python3"
  },
  "language_info": {
   "codemirror_mode": {
    "name": "ipython",
    "version": 3
   },
   "file_extension": ".py",
   "mimetype": "text/x-python",
   "name": "python",
   "nbconvert_exporter": "python",
   "pygments_lexer": "ipython3",
   "version": "3.7.1"
  }
 },
 "nbformat": 4,
 "nbformat_minor": 4
}
