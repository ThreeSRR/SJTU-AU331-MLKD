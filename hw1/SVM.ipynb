{
 "cells": [
  {
   "cell_type": "code",
   "execution_count": 1,
   "metadata": {},
   "outputs": [
    {
     "name": "stderr",
     "output_type": "stream",
     "text": [
      "c:\\users\\shi-rui\\appdata\\local\\programs\\python\\python37\\lib\\importlib\\_bootstrap.py:219: RuntimeWarning: numpy.ufunc size changed, may indicate binary incompatibility. Expected 192 from C header, got 216 from PyObject\n",
      "  return f(*args, **kwds)\n",
      "c:\\users\\shi-rui\\appdata\\local\\programs\\python\\python37\\lib\\importlib\\_bootstrap.py:219: RuntimeWarning: numpy.ufunc size changed, may indicate binary incompatibility. Expected 192 from C header, got 216 from PyObject\n",
      "  return f(*args, **kwds)\n",
      "c:\\users\\shi-rui\\appdata\\local\\programs\\python\\python37\\lib\\importlib\\_bootstrap.py:219: RuntimeWarning: numpy.ufunc size changed, may indicate binary incompatibility. Expected 192 from C header, got 216 from PyObject\n",
      "  return f(*args, **kwds)\n"
     ]
    }
   ],
   "source": [
    "import numpy as np\n",
    "import pandas as pd\n",
    "from sklearn import svm\n",
    "from sklearn.metrics import accuracy_score"
   ]
  },
  {
   "cell_type": "code",
   "execution_count": 3,
   "metadata": {},
   "outputs": [],
   "source": [
    "dataroot = 'watermelon.csv'\n",
    "df = pd.read_csv(dataroot)"
   ]
  },
  {
   "cell_type": "code",
   "execution_count": 4,
   "metadata": {},
   "outputs": [],
   "source": [
    "samples = np.zeros((17, 8))\n",
    "labels = np.zeros((17, 1))\n",
    "\n",
    "feature1 = {'青绿': 1, '乌黑': 2, '浅白': 3}\n",
    "feature2 = {'蜷缩': 1, '稍蜷': 2, '硬挺': 3}\n",
    "feature3 = {'浊响': 1, '沉闷': 2, '清脆': 3}\n",
    "feature4 = {'清晰': 1, '稍糊': 2, '模糊': 3}\n",
    "feature5 = {'凹陷': 1, '稍凹': 2, '平坦': 3}\n",
    "feature6 = {'硬滑': 1, '软粘': 2}\n",
    "\n",
    "for row in range(df.shape[0]):\n",
    "    samples[row][0] = feature1[df.iloc[row][1]]\n",
    "    samples[row][1] = feature2[df.iloc[row][2]]\n",
    "    samples[row][2] = feature3[df.iloc[row][3]]\n",
    "    samples[row][3] = feature4[df.iloc[row][4]]\n",
    "    samples[row][4] = feature5[df.iloc[row][5]]\n",
    "    samples[row][5] = feature6[df.iloc[row][6]]\n",
    "    samples[row][6] = df.iloc[row][7]\n",
    "    samples[row][7] = df.iloc[row][8]\n",
    "    labels[row][0] = 1 if df.iloc[row][9] == '是' else -1\n",
    "    \n",
    "\n",
    "labels = np.reshape(labels, -1)\n",
    "flag = np.array([0, 0, 0, 0, 0, 0, 1, 1])"
   ]
  },
  {
   "cell_type": "code",
   "execution_count": 17,
   "metadata": {},
   "outputs": [],
   "source": [
    "idx = list(range(17))\n",
    "np.random.shuffle(idx)\n",
    "\n",
    "training_idx = idx[:14]\n",
    "training_samples = samples[training_idx]\n",
    "training_labels = labels[training_idx]\n",
    "\n",
    "testing_idx = idx[14:]\n",
    "testing_samples = samples[testing_idx]\n",
    "testing_labels = labels[testing_idx]"
   ]
  },
  {
   "cell_type": "markdown",
   "metadata": {},
   "source": [
    "**poly kernel**"
   ]
  },
  {
   "cell_type": "code",
   "execution_count": 33,
   "metadata": {},
   "outputs": [
    {
     "name": "stdout",
     "output_type": "stream",
     "text": [
      "[ 1.  1. -1.] [ 1.  1. -1.]\n",
      "ACC score: 1.0\n"
     ]
    }
   ],
   "source": [
    "clf = svm.SVC(kernel='poly', C=0.1, degree=3)\n",
    "clf.fit(training_samples, training_labels)\n",
    "pred_labels = clf.predict(testing_samples)\n",
    "print(testing_labels, pred_labels)\n",
    "print('ACC score: {}'.format(accuracy_score(testing_labels, pred_labels)))"
   ]
  },
  {
   "cell_type": "markdown",
   "metadata": {},
   "source": [
    "**linear kernel**"
   ]
  },
  {
   "cell_type": "code",
   "execution_count": 32,
   "metadata": {},
   "outputs": [
    {
     "name": "stdout",
     "output_type": "stream",
     "text": [
      "[ 1.  1. -1.] [ 1.  1. -1.]\n",
      "ACC score: 1.0\n"
     ]
    }
   ],
   "source": [
    "clf = svm.SVC(kernel='linear', C=0.1)\n",
    "clf.fit(training_samples, training_labels)\n",
    "pred_labels = clf.predict(testing_samples)\n",
    "print(testing_labels, pred_labels)\n",
    "print('ACC score: {}'.format(accuracy_score(testing_labels, pred_labels)))"
   ]
  },
  {
   "cell_type": "markdown",
   "metadata": {},
   "source": [
    "**rbf kernel**"
   ]
  },
  {
   "cell_type": "code",
   "execution_count": 30,
   "metadata": {},
   "outputs": [
    {
     "name": "stdout",
     "output_type": "stream",
     "text": [
      "[ 1.  1. -1.] [ 1.  1. -1.]\n",
      "ACC score: 1.0\n"
     ]
    }
   ],
   "source": [
    "clf = svm.SVC(kernel='rbf')\n",
    "clf.fit(training_samples, training_labels)\n",
    "pred_labels = clf.predict(testing_samples)\n",
    "print(testing_labels, pred_labels)\n",
    "print('ACC score: {}'.format(accuracy_score(testing_labels, pred_labels)))"
   ]
  },
  {
   "cell_type": "markdown",
   "metadata": {},
   "source": [
    "**sigmoid kernel**"
   ]
  },
  {
   "cell_type": "code",
   "execution_count": 31,
   "metadata": {},
   "outputs": [
    {
     "name": "stdout",
     "output_type": "stream",
     "text": [
      "[ 1.  1. -1.] [-1. -1. -1.]\n",
      "ACC score: 0.3333333333333333\n"
     ]
    }
   ],
   "source": [
    "clf = svm.SVC(kernel='sigmoid')\n",
    "clf.fit(training_samples, training_labels)\n",
    "pred_labels = clf.predict(testing_samples)\n",
    "print(testing_labels, pred_labels)\n",
    "print('ACC score: {}'.format(accuracy_score(testing_labels, pred_labels)))"
   ]
  }
 ],
 "metadata": {
  "kernelspec": {
   "display_name": "Python 3",
   "language": "python",
   "name": "python3"
  },
  "language_info": {
   "codemirror_mode": {
    "name": "ipython",
    "version": 3
   },
   "file_extension": ".py",
   "mimetype": "text/x-python",
   "name": "python",
   "nbconvert_exporter": "python",
   "pygments_lexer": "ipython3",
   "version": "3.7.1"
  }
 },
 "nbformat": 4,
 "nbformat_minor": 4
}
