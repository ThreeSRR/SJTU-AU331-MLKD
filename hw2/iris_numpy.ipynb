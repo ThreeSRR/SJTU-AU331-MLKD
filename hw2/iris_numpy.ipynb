{
 "cells": [
  {
   "cell_type": "code",
   "execution_count": 1,
   "metadata": {},
   "outputs": [],
   "source": [
    "import numpy as np\n",
    "import matplotlib.pyplot as plt\n",
    "import pandas as pd\n",
    "import os"
   ]
  },
  {
   "cell_type": "markdown",
   "metadata": {},
   "source": [
    "# Data preprocess"
   ]
  },
  {
   "cell_type": "code",
   "execution_count": 2,
   "metadata": {},
   "outputs": [],
   "source": [
    "Iris_dataset = pd.read_table('iris.data', delimiter=',',header=None)"
   ]
  },
  {
   "cell_type": "code",
   "execution_count": 3,
   "metadata": {},
   "outputs": [],
   "source": [
    "samples = np.zeros((Iris_dataset.shape[0], 4))\n",
    "labels = np.zeros((Iris_dataset.shape[0], ))"
   ]
  },
  {
   "cell_type": "code",
   "execution_count": 4,
   "metadata": {},
   "outputs": [],
   "source": [
    "dic = {}\n",
    "for i,category in enumerate(Iris_dataset[4].unique()):\n",
    "    dic[category] = i"
   ]
  },
  {
   "cell_type": "code",
   "execution_count": 5,
   "metadata": {},
   "outputs": [],
   "source": [
    "for row in range(Iris_dataset.shape[0]):\n",
    "    samples[row][0] = Iris_dataset.iloc[row][0]\n",
    "    samples[row][1] = Iris_dataset.iloc[row][1]\n",
    "    samples[row][2] = Iris_dataset.iloc[row][2]\n",
    "    samples[row][3] = Iris_dataset.iloc[row][3]\n",
    "                               \n",
    "    labels[row] = dic[Iris_dataset.iloc[row][4]]"
   ]
  },
  {
   "cell_type": "code",
   "execution_count": 6,
   "metadata": {},
   "outputs": [],
   "source": [
    "ground_truth = np.zeros([labels.shape[0], 3])"
   ]
  },
  {
   "cell_type": "code",
   "execution_count": 7,
   "metadata": {},
   "outputs": [],
   "source": [
    "for i in range(labels.shape[0]):\n",
    "    ground_truth[i][int(labels[i])] = 1"
   ]
  },
  {
   "cell_type": "code",
   "execution_count": 8,
   "metadata": {},
   "outputs": [],
   "source": [
    "labels = ground_truth"
   ]
  },
  {
   "cell_type": "code",
   "execution_count": 9,
   "metadata": {},
   "outputs": [],
   "source": [
    "train_data = np.zeros((120, 4))\n",
    "train_label = np.zeros((120, 3))\n",
    "test_data = np.zeros((30, 4))\n",
    "test_label = np.zeros((30, 3))\n",
    "for i in range(3):\n",
    "    num = int(samples.shape[0]/3)\n",
    "    idx = list(range(num * i, num * (i+1)))\n",
    "    np.random.shuffle(idx)\n",
    "    \n",
    "    split = int(num * 0.8)\n",
    "    test_num = num - split\n",
    "    train_idx = idx[:split]\n",
    "    test_idx = idx[split:]\n",
    "    \n",
    "    train_data[split * i: split * (i+1)] = samples[train_idx]\n",
    "    test_data[test_num * i: test_num * (i+1)] = samples[test_idx]\n",
    "    train_label[split * i: split * (i+1)] = labels[train_idx]\n",
    "    test_label[test_num * i: test_num * (i+1)] = labels[test_idx]"
   ]
  },
  {
   "cell_type": "code",
   "execution_count": 10,
   "metadata": {},
   "outputs": [],
   "source": [
    "idx = list(range(train_data.shape[0]))\n",
    "np.random.shuffle(idx)\n",
    "\n",
    "train_data = train_data[idx]\n",
    "train_label = train_label[idx]\n",
    "\n",
    "idx = list(range(test_data.shape[0]))\n",
    "np.random.shuffle(idx)\n",
    "\n",
    "test_data = test_data[idx]\n",
    "test_label = test_label[idx]"
   ]
  },
  {
   "cell_type": "markdown",
   "metadata": {},
   "source": [
    "# Define model"
   ]
  },
  {
   "cell_type": "code",
   "execution_count": 11,
   "metadata": {},
   "outputs": [],
   "source": [
    "class ThreeLayerNet(object):\n",
    "\n",
    "    def __init__(self, input_size, hidden_size, output_size, std=1e-3):\n",
    "\n",
    "        \"\"\" Three layer net implemented with numpy\n",
    "        Weights and biases are stored in the variable self.params, which is a dictionary with the following keys:\n",
    "        W1: Hiden layer weights, shape (D, H)\n",
    "        b1: Hiden layer biases, shape (H,)\n",
    "        W2: Second layer weights, shape (H, C)\n",
    "        b2: Second layer biases, shape (C,)\n",
    "\n",
    "        :param input_size: The dimension D of the input data.\n",
    "        :param hidden_size: The number of neurons H in the hidden layer.\n",
    "        :param output_size: The number of classes C.\n",
    "\n",
    "        \"\"\"\n",
    "        self.output_size = output_size\n",
    "        self.params = {}\n",
    "        self.params['W1'] = std * np.random.randn(input_size, hidden_size)\n",
    "        self.params['b1'] = np.zeros(hidden_size)\n",
    "        self.params['W2'] = std * np.random.randn(hidden_size, output_size)\n",
    "        self.params['b2'] = np.zeros(output_size)\n",
    "\n",
    "    def sigmoid(self, x):\n",
    "        return 1 / (1 + np.exp(-x))\n",
    "\n",
    "    def derivative_sigmoid(self, x):\n",
    "        return np.dot(self.sigmoid(x).T, (1 - self.sigmoid(x)))\n",
    "\n",
    "    def MSELoss(self, predict, ground_truth):\n",
    "        return np.sum(0.5*(predict-ground_truth)**2)\n",
    "    \n",
    "    def softmax(self, x):\n",
    "        exp_x = np.exp(x)\n",
    "        tmp = np.sum(exp_x, axis=1).reshape(x.shape[0], 1)\n",
    "        return exp_x / tmp\n",
    "\n",
    "    def loss(self, X, y, reg=0.0):\n",
    "        \"\"\"Compute the loss and gradients, combining forward and backward\n",
    "        :param X: training samples, shape (N, D)\n",
    "        :param y: one-hot-coded training labels, shape (N，C)\n",
    "\n",
    "        Returns:\n",
    "        loss: Loss for this batch of training samples.\n",
    "        grads: Dictionary mapping parameter names to gradients of those parameters\n",
    "\n",
    "        \"\"\"\n",
    "        \n",
    "        # Forward\n",
    "        W1, b1 = self.params['W1'], self.params['b1']\n",
    "        W2, b2 = self.params['W2'], self.params['b2']\n",
    "\n",
    "        a1 = X\n",
    "        z1 = np.dot(a1, W1) + b1\n",
    "        a2 = self.sigmoid(z1)\n",
    "        z2 = np.dot(a2, W2) + b2\n",
    "\n",
    "        loss = self.MSELoss(z2, y)\n",
    "\n",
    "        # Backward pass: compute gradients\n",
    "        grads = {}\n",
    "        dW2 = np.dot(a2.T, z2 - y)\n",
    "        dW2 += reg * dW2\n",
    "        grads['W2'] = dW2\n",
    "        grads['b2'] = np.sum(z2 - y, axis=0)\n",
    "\n",
    "        da2 = np.dot((z2 - y), W2.T)\n",
    "        dz1 = np.dot(da2, self.derivative_sigmoid(z1))\n",
    "        dW1 = np.dot(a1.T, dz1)\n",
    "        dW1 += reg * dW1\n",
    "        grads['W1'] = dW1\n",
    "        grads['b1'] = np.sum(dz1, axis=0)\n",
    "\n",
    "        return loss, grads\n",
    "\n",
    "    def train(self, X, y, learning_rate=1e-3, batch_size=3, reg=0.0):\n",
    "        \"\"\"Train the neural network\n",
    "        :param X: training samples, shape (N, D)\n",
    "        :param y: one-hot-coded training labels, shape (N, C)\n",
    "        :param learning_rate: Scalar giving learning rate for optimization.\n",
    "        :param batch_size: Number of training examples to use per step.\n",
    "        \n",
    "        Returns: loss and train_acc\n",
    "\n",
    "        \"\"\"\n",
    "\n",
    "        num_train = X.shape[0]\n",
    "        batch_num = max(num_train // batch_size, 1)\n",
    "\n",
    "        total_loss = 0\n",
    "\n",
    "        for idx in range(batch_num):\n",
    "\n",
    "            X_batch = X[idx * batch_size : (idx+1) * batch_size]\n",
    "            y_batch = y[idx * batch_size : (idx+1) * batch_size]\n",
    "\n",
    "            loss, grads = self.loss(X_batch, y_batch, reg)\n",
    "            total_loss += loss\n",
    "\n",
    "            # Gradient Descent\n",
    "\n",
    "            dW1, db1 = grads['W1'], grads['b1']\n",
    "            dW2, db2 = grads['W2'], grads['b2']\n",
    "            \n",
    "            self.params['W1'] -= learning_rate * dW1\n",
    "            self.params['b1'] -= learning_rate * db1\n",
    "            self.params['W2'] -= learning_rate * dW2\n",
    "            self.params['b2'] -= learning_rate * db2\n",
    "\n",
    "        # Check accuracy\n",
    "        _, y_pred = self.predict(X)\n",
    "        y_true = y\n",
    "        \n",
    "        count = 0\n",
    "        for i in range(y_pred.shape[0]):\n",
    "            if all(y_pred[i] == y_true[i]):\n",
    "                count += 1\n",
    "        train_acc = count / num_train\n",
    "        loss = total_loss / num_train\n",
    "\n",
    "        return {\n",
    "          'loss': loss,\n",
    "          'train_acc': train_acc,\n",
    "        }\n",
    "    \n",
    "    def test(self, X, y):\n",
    "        \"\"\"Test the neural network\n",
    "        :param X: testing samples, shape (N, D)\n",
    "        :param y: one-hot-coded testing labels, shape (N, C)\n",
    "        \n",
    "        Returns: loss and test_acc\n",
    "\n",
    "        \"\"\"\n",
    "        num_test = X.shape[0]\n",
    "\n",
    "        # Check accuracy\n",
    "        output, y_pred = self.predict(X)\n",
    "        y_true = y\n",
    "        \n",
    "        count = 0\n",
    "        for i in range(y_pred.shape[0]):\n",
    "            if all(y_pred[i] == y_true[i]):\n",
    "                count += 1\n",
    "        test_acc = count / num_test\n",
    "        loss = self.MSELoss(output, y_true) / num_test\n",
    "\n",
    "        return {\n",
    "          'loss': loss,\n",
    "          'test_acc': test_acc,\n",
    "        }\n",
    "\n",
    "\n",
    "    def predict(self, X):\n",
    "\n",
    "        \"\"\"predict label of sample X\n",
    "        :param X: testing data, shape (N, D)\n",
    "\n",
    "        Returns:\n",
    "        pred: predicted one-hot coded labels, shape (N, C)\n",
    "\n",
    "        \"\"\"\n",
    "        W1, b1 = self.params['W1'], self.params['b1']\n",
    "        W2, b2 = self.params['W2'], self.params['b2']\n",
    "\n",
    "        a1 = X\n",
    "        z1 = np.dot(a1, W1) + b1\n",
    "        a2 = self.sigmoid(z1)\n",
    "        z2 = np.dot(a2, W2) + b2\n",
    "        y_pred = np.argmax(z2, axis=1)\n",
    "        \n",
    "        # one-hot\n",
    "        pred = np.zeros([y_pred.shape[0],self.output_size])\n",
    "        for i in range(y_pred.shape[0]):\n",
    "            pred[i][int(y_pred[i])] = 1\n",
    "\n",
    "        return z2, pred"
   ]
  },
  {
   "cell_type": "markdown",
   "metadata": {},
   "source": [
    "# Train"
   ]
  },
  {
   "cell_type": "code",
   "execution_count": 12,
   "metadata": {},
   "outputs": [],
   "source": [
    "input_size = train_data.shape[1]\n",
    "output_size = labels.shape[1]"
   ]
  },
  {
   "cell_type": "code",
   "execution_count": 16,
   "metadata": {},
   "outputs": [],
   "source": [
    "model = ThreeLayerNet(input_size, 40, output_size)"
   ]
  },
  {
   "cell_type": "code",
   "execution_count": 17,
   "metadata": {},
   "outputs": [
    {
     "name": "stdout",
     "output_type": "stream",
     "text": [
      "Epoch: 49  Train loss: 0.228  acc: 0.667  Test loss: 0.221 acc: 0.667\n",
      "Epoch: 99  Train loss: 0.182  acc: 0.692  Test loss: 0.180 acc: 0.667\n",
      "Epoch: 149  Train loss: 0.178  acc: 0.758  Test loss: 0.176 acc: 0.733\n",
      "Epoch: 199  Train loss: 0.177  acc: 0.767  Test loss: 0.174 acc: 0.733\n",
      "Epoch: 249  Train loss: 0.176  acc: 0.750  Test loss: 0.173 acc: 0.800\n",
      "Epoch: 299  Train loss: 0.176  acc: 0.758  Test loss: 0.173 acc: 0.800\n",
      "Epoch: 349  Train loss: 0.175  acc: 0.767  Test loss: 0.172 acc: 0.833\n",
      "Epoch: 399  Train loss: 0.175  acc: 0.767  Test loss: 0.172 acc: 0.833\n",
      "Epoch: 449  Train loss: 0.174  acc: 0.783  Test loss: 0.171 acc: 0.833\n",
      "Epoch: 499  Train loss: 0.173  acc: 0.800  Test loss: 0.170 acc: 0.900\n",
      "Epoch: 549  Train loss: 0.172  acc: 0.833  Test loss: 0.169 acc: 0.900\n",
      "Epoch: 599  Train loss: 0.171  acc: 0.875  Test loss: 0.167 acc: 0.900\n",
      "Epoch: 649  Train loss: 0.168  acc: 0.942  Test loss: 0.165 acc: 0.933\n",
      "Epoch: 699  Train loss: 0.166  acc: 0.958  Test loss: 0.162 acc: 0.967\n",
      "Epoch: 749  Train loss: 0.163  acc: 0.975  Test loss: 0.159 acc: 0.967\n",
      "Epoch: 799  Train loss: 0.161  acc: 0.975  Test loss: 0.157 acc: 0.967\n"
     ]
    }
   ],
   "source": [
    "NUM_EPOCH = 800\n",
    "learning_rate = 1e-3\n",
    "batch_size = 5\n",
    "\n",
    "train_loss = []\n",
    "train_acc = []\n",
    "test_loss = []\n",
    "test_acc = []\n",
    "for idx in range(NUM_EPOCH):\n",
    "    train_res = model.train(train_data, train_label, learning_rate, batch_size, reg=1e-3)\n",
    "    train_loss.append(train_res['loss'])\n",
    "    train_acc.append(train_res['train_acc'])\n",
    "    \n",
    "    test_res = model.test(test_data, test_label)\n",
    "    test_loss.append(test_res['loss'])\n",
    "    test_acc.append(test_res['test_acc'])\n",
    "    \n",
    "    if (idx + 1) % 50 == 0:\n",
    "        print('Epoch: %d  Train loss: %.3f  acc: %.3f  Test loss: %.3f acc: %.3f' % (idx, train_res['loss'], train_res['train_acc'], test_res['loss'], test_res['test_acc']))"
   ]
  },
  {
   "cell_type": "code",
   "execution_count": 18,
   "metadata": {},
   "outputs": [
    {
     "data": {
      "image/png": "[encoded data removed]",
      "text/plain": [
       "<Figure size 432x288 with 1 Axes>"
      ]
     },
     "metadata": {
      "needs_background": "light"
     },
     "output_type": "display_data"
    },
    {
     "data": {
      "image/png": "[encoded data removed]",
      "text/plain": [
       "<Figure size 432x288 with 1 Axes>"
      ]
     },
     "metadata": {
      "needs_background": "light"
     },
     "output_type": "display_data"
    }
   ],
   "source": [
    "dir_path = './figures_numpy_net'\n",
    "if not os.path.isdir(dir_path):\n",
    "    os.mkdir(dir_path)\n",
    "\n",
    "x = range(NUM_EPOCH)\n",
    "plt.plot(x, train_loss, test_loss)\n",
    "plt.xlabel('epoch')\n",
    "plt.ylabel('loss')\n",
    "plt.legend(['train', 'test'])\n",
    "plt.savefig(os.path.join(dir_path, \"loss.png\"))\n",
    "plt.show()\n",
    "    \n",
    "x = range(NUM_EPOCH)\n",
    "plt.plot(x, train_acc, test_acc)\n",
    "plt.xlabel('epoch')\n",
    "plt.ylabel('acc')\n",
    "plt.legend(['train', 'test'])\n",
    "plt.savefig(os.path.join(dir_path, \"acc.png\"))\n",
    "plt.show()"
   ]
  },
  {
   "cell_type": "code",
   "execution_count": null,
   "metadata": {},
   "outputs": [],
   "source": []
  },
  {
   "cell_type": "code",
   "execution_count": null,
   "metadata": {},
   "outputs": [],
   "source": []
  }
 ],
 "metadata": {
  "kernelspec": {
   "display_name": "Python 3",
   "language": "python",
   "name": "python3"
  },
  "language_info": {
   "codemirror_mode": {
    "name": "ipython",
    "version": 3
   },
   "file_extension": ".py",
   "mimetype": "text/x-python",
   "name": "python",
   "nbconvert_exporter": "python",
   "pygments_lexer": "ipython3",
   "version": "3.7.1"
  }
 },
 "nbformat": 4,
 "nbformat_minor": 4
}
